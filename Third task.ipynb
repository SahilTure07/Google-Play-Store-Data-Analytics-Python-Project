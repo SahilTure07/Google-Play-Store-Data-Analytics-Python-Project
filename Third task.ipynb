{
 "cells": [
  {
   "cell_type": "code",
   "execution_count": 1,
   "id": "aa27ffa5-0f57-419f-9668-358ec627fe2c",
   "metadata": {},
   "outputs": [],
   "source": [
    "import numpy as np\n",
    "import pandas as pd\n",
    "import matplotlib.pyplot as plt\n",
    "import seaborn as sns\n",
    "import plotly.express as px\n",
    "from sklearn.model_selection import train_test_split\n",
    "from sklearn.ensemble import RandomForestRegressor\n",
    "from sklearn.metrics import mean_squared_error, r2_score\n",
    "import os\n",
    "import webbrowser\n",
    "import nltk\n",
    "from datetime import datetime\n",
    "import pytz"
   ]
  },
  {
   "cell_type": "code",
   "execution_count": 2,
   "id": "fa9bc07a-6b77-451e-95a5-531dfe8b8f8b",
   "metadata": {},
   "outputs": [
    {
     "name": "stderr",
     "output_type": "stream",
     "text": [
      "[nltk_data] Downloading package vader_lexicon to\n",
      "[nltk_data]     C:\\Users\\Suhani\\AppData\\Roaming\\nltk_data...\n",
      "[nltk_data]   Package vader_lexicon is already up-to-date!\n"
     ]
    },
    {
     "data": {
      "text/plain": [
       "True"
      ]
     },
     "execution_count": 2,
     "metadata": {},
     "output_type": "execute_result"
    }
   ],
   "source": [
    "nltk.download('vader_lexicon')"
   ]
  },
  {
   "cell_type": "code",
   "execution_count": 3,
   "id": "1a5aa318-abed-4168-a8b5-eea6b75d6d70",
   "metadata": {},
   "outputs": [
    {
     "data": {
      "text/plain": [
       "(                                                 App        Category  Rating  \\\n",
       " 0     Photo Editor & Candy Camera & Grid & ScrapBook  ART_AND_DESIGN     4.1   \n",
       " 1                                Coloring book moana  ART_AND_DESIGN     3.9   \n",
       " 2  U Launcher Lite – FREE Live Cool Themes, Hide ...  ART_AND_DESIGN     4.7   \n",
       " 3                              Sketch - Draw & Paint  ART_AND_DESIGN     4.5   \n",
       " 4              Pixel Draw - Number Art Coloring Book  ART_AND_DESIGN     4.3   \n",
       " \n",
       "   Reviews  Size     Installs  Type Price Content Rating  \\\n",
       " 0     159   19M      10,000+  Free     0       Everyone   \n",
       " 1     967   14M     500,000+  Free     0       Everyone   \n",
       " 2   87510  8.7M   5,000,000+  Free     0       Everyone   \n",
       " 3  215644   25M  50,000,000+  Free     0           Teen   \n",
       " 4     967  2.8M     100,000+  Free     0       Everyone   \n",
       " \n",
       "                       Genres      Last Updated         Current Ver  \\\n",
       " 0               Art & Design   January 7, 2018               1.0.0   \n",
       " 1  Art & Design;Pretend Play  January 15, 2018               2.0.0   \n",
       " 2               Art & Design    August 1, 2018               1.2.4   \n",
       " 3               Art & Design      June 8, 2018  Varies with device   \n",
       " 4    Art & Design;Creativity     June 20, 2018                 1.1   \n",
       " \n",
       "     Android Ver  \n",
       " 0  4.0.3 and up  \n",
       " 1  4.0.3 and up  \n",
       " 2  4.0.3 and up  \n",
       " 3    4.2 and up  \n",
       " 4    4.4 and up  ,\n",
       "                      App                                  Translated_Review  \\\n",
       " 0  10 Best Foods for You  I like eat delicious food. That's I'm cooking ...   \n",
       " 1  10 Best Foods for You    This help eating healthy exercise regular basis   \n",
       " 2  10 Best Foods for You                                                NaN   \n",
       " 3  10 Best Foods for You         Works great especially going grocery store   \n",
       " 4  10 Best Foods for You                                       Best idea us   \n",
       " \n",
       "   Sentiment  Sentiment_Polarity  Sentiment_Subjectivity  \n",
       " 0  Positive                1.00                0.533333  \n",
       " 1  Positive                0.25                0.288462  \n",
       " 2       NaN                 NaN                     NaN  \n",
       " 3  Positive                0.40                0.875000  \n",
       " 4  Positive                1.00                0.300000  )"
      ]
     },
     "execution_count": 3,
     "metadata": {},
     "output_type": "execute_result"
    }
   ],
   "source": [
    "apps_df=pd.read_csv('Play Store data.csv')\n",
    "reviews_df=pd.read_csv('User Reviews.csv')\n",
    "apps_df.head(), reviews_df.head()"
   ]
  },
  {
   "cell_type": "code",
   "execution_count": 4,
   "id": "5cbdfd4f-0cfd-4c6f-8e5b-996709cb34a7",
   "metadata": {},
   "outputs": [
    {
     "name": "stderr",
     "output_type": "stream",
     "text": [
      "C:\\Users\\Suhani\\AppData\\Local\\Temp\\ipykernel_11392\\501186769.py:3: FutureWarning: A value is trying to be set on a copy of a DataFrame or Series through chained assignment using an inplace method.\n",
      "The behavior will change in pandas 3.0. This inplace method will never work because the intermediate object on which we are setting values always behaves as a copy.\n",
      "\n",
      "For example, when doing 'df[col].method(value, inplace=True)', try using 'df.method({col: value}, inplace=True)' or df[col] = df[col].method(value) instead, to perform the operation inplace on the original object.\n",
      "\n",
      "\n",
      "  apps_df[column].fillna(apps_df[column].mode()[0], inplace = True)\n"
     ]
    }
   ],
   "source": [
    "apps_df = apps_df.dropna(subset = ['Rating'])\n",
    "for column in apps_df.columns:\n",
    "    apps_df[column].fillna(apps_df[column].mode()[0], inplace = True)\n",
    "apps_df.drop_duplicates(inplace=True)\n",
    "apps_df = apps_df[apps_df['Rating'] <= 5]\n",
    "reviews_df.dropna(subset = ['Translated_Review'], inplace = True)"
   ]
  },
  {
   "cell_type": "code",
   "execution_count": 5,
   "id": "896524ea-acad-4198-9558-3a23de8f5d41",
   "metadata": {},
   "outputs": [],
   "source": [
    "apps_df['Rating'] = pd.to_numeric(apps_df['Rating'], errors = 'coerce')"
   ]
  },
  {
   "cell_type": "code",
   "execution_count": 6,
   "id": "ca424d94-3309-40c6-a2dc-103148b32f35",
   "metadata": {},
   "outputs": [],
   "source": [
    "apps_df['Reviews'] = pd.to_numeric(apps_df['Reviews'], errors = 'coerce') "
   ]
  },
  {
   "cell_type": "code",
   "execution_count": 7,
   "id": "ce72b3e1-b755-4d22-acf6-713750e89edf",
   "metadata": {},
   "outputs": [],
   "source": [
    "filtered_apps = apps_df[\n",
    "(apps_df['App'].str.contains('C', case = False, na = True))&\n",
    "(apps_df['Reviews'] >=10)&\n",
    "(apps_df['Rating'] < 4.0)\n",
    "]"
   ]
  },
  {
   "cell_type": "code",
   "execution_count": 8,
   "id": "653f51df-b0bd-4313-b639-84c4f434b2ac",
   "metadata": {},
   "outputs": [],
   "source": [
    "category_counts = filtered_apps['Category'].value_counts()"
   ]
  },
  {
   "cell_type": "code",
   "execution_count": 9,
   "id": "b1931519-35a2-4956-8eb9-1e20cd54d129",
   "metadata": {},
   "outputs": [],
   "source": [
    "valid_categories = category_counts[category_counts > 50].index"
   ]
  },
  {
   "cell_type": "code",
   "execution_count": 10,
   "id": "603005b2-f82d-48f5-9765-50029a47a381",
   "metadata": {},
   "outputs": [],
   "source": [
    "filtered_apps = filtered_apps[filtered_apps['Category'].isin(valid_categories)]"
   ]
  },
  {
   "cell_type": "code",
   "execution_count": 11,
   "id": "72fd3f47-7a9c-4b37-916b-5b8dab435484",
   "metadata": {},
   "outputs": [],
   "source": [
    "# This script generates and displays a graph using matplotlib.\n",
    "# It creates a dataset, plots a graph, and labels axes.\n",
    "# Running this code will display the graph visually.\n",
    "ist = pytz.timezone('Asia/Kolkata')\n",
    "current_hour = datetime.now(ist).hour"
   ]
  },
  {
   "cell_type": "code",
   "execution_count": 12,
   "id": "59bc8e41-faf7-4386-97dc-0d666e340526",
   "metadata": {},
   "outputs": [],
   "source": [
    "chart_path = 'Violin_plot.html'\n",
    "display_page_path = 'display_violin_plot.html'\n",
    "if 16 <= current_hour < 18:\n",
    "    fig = px.violin(filtered_apps, x = 'Category', y = 'Rating', box = True, points = 'all', title = 'Rating Distribution by Category')\n",
    "    fig.write_html(chart_path)\n",
    "    html_content = f'''\n",
    "    <!DOCKTYPE html>\n",
    "    <html lang = 'en'>\n",
    "    <head>\n",
    "        <meta charset = 'UTF-8'>\n",
    "        <meta name = 'viewport' content = 'width = device - width, initial - scale = 1.0'>\n",
    "        <title> Violin Plot </title>\n",
    "        <script>\n",
    "            function openchart() {{\n",
    "            window.open('{chart_path}', '_blank');\n",
    "            }}\n",
    "        </script>\n",
    "    </head>\n",
    "    <body>\n",
    "        <h2> Violin Plot: Rating Distribution by Category </h2>\n",
    "        <button onclick ='openChart()'> Open Chart </button>\n",
    "    </body>\n",
    "    </html>\n",
    "    '''\n",
    "else:\n",
    "    if os.path.exists(chart_path):\n",
    "        os.remove(chart_path)\n",
    "    html_content = '''\n",
    "    <!DOCTYPE html>\n",
    "    <html lang = 'en'>\n",
    "    <head>\n",
    "        <meta charset = 'UTF-8'>\n",
    "        <meta name = 'viewport' content = 'width = device-width, initial-scale = 1.0'>\n",
    "        <title> Violin Plot </title>\n",
    "    </head>\n",
    "    <body>\n",
    "        <h2> Violin Plot is not available at this time. </h2>\n",
    "        <p> Please check back between 4 PM - 6 PM IST. </p>\n",
    "    </body>\n",
    "    </html>\n",
    "    '''\n",
    "with open(display_page_path, 'w') as file:\n",
    "    file.write(html_content)"
   ]
  }
 ],
 "metadata": {
  "kernelspec": {
   "display_name": "Python [conda env:base] *",
   "language": "python",
   "name": "conda-base-py"
  },
  "language_info": {
   "codemirror_mode": {
    "name": "ipython",
    "version": 3
   },
   "file_extension": ".py",
   "mimetype": "text/x-python",
   "name": "python",
   "nbconvert_exporter": "python",
   "pygments_lexer": "ipython3",
   "version": "3.12.7"
  }
 },
 "nbformat": 4,
 "nbformat_minor": 5
}
