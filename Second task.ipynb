{
 "cells": [
  {
   "cell_type": "code",
   "execution_count": 1,
   "id": "3bb563eb-9a87-4d8d-86c3-188e5020b244",
   "metadata": {},
   "outputs": [],
   "source": [
    "import numpy as np\n",
    "import pandas as pd\n",
    "import matplotlib.pyplot as plt\n",
    "import seaborn as sns\n",
    "import plotly.express as px\n",
    "import plotly.graph_objects as go\n",
    "from sklearn.model_selection import train_test_split\n",
    "from sklearn.ensemble import RandomForestRegressor\n",
    "from sklearn.metrics import mean_squared_error, r2_score\n",
    "from datetime import datetime\n",
    "import nltk\n",
    "import webbrowser\n",
    "import os\n",
    "import pytz"
   ]
  },
  {
   "cell_type": "code",
   "execution_count": 2,
   "id": "33129231-571d-479b-944f-b76c42114e65",
   "metadata": {},
   "outputs": [
    {
     "name": "stderr",
     "output_type": "stream",
     "text": [
      "[nltk_data] Downloading package vader_lexicon to\n",
      "[nltk_data]     C:\\Users\\Suhani\\AppData\\Roaming\\nltk_data...\n",
      "[nltk_data]   Package vader_lexicon is already up-to-date!\n"
     ]
    },
    {
     "data": {
      "text/plain": [
       "True"
      ]
     },
     "execution_count": 2,
     "metadata": {},
     "output_type": "execute_result"
    }
   ],
   "source": [
    "nltk.download('vader_lexicon')\n"
   ]
  },
  {
   "cell_type": "code",
   "execution_count": 3,
   "id": "90d19948-e733-458c-a60e-9a09faa973ce",
   "metadata": {},
   "outputs": [
    {
     "data": {
      "text/plain": [
       "(                                                 App        Category  Rating  \\\n",
       " 0     Photo Editor & Candy Camera & Grid & ScrapBook  ART_AND_DESIGN     4.1   \n",
       " 1                                Coloring book moana  ART_AND_DESIGN     3.9   \n",
       " 2  U Launcher Lite – FREE Live Cool Themes, Hide ...  ART_AND_DESIGN     4.7   \n",
       " 3                              Sketch - Draw & Paint  ART_AND_DESIGN     4.5   \n",
       " 4              Pixel Draw - Number Art Coloring Book  ART_AND_DESIGN     4.3   \n",
       " \n",
       "   Reviews  Size     Installs  Type Price Content Rating  \\\n",
       " 0     159   19M      10,000+  Free     0       Everyone   \n",
       " 1     967   14M     500,000+  Free     0       Everyone   \n",
       " 2   87510  8.7M   5,000,000+  Free     0       Everyone   \n",
       " 3  215644   25M  50,000,000+  Free     0           Teen   \n",
       " 4     967  2.8M     100,000+  Free     0       Everyone   \n",
       " \n",
       "                       Genres      Last Updated         Current Ver  \\\n",
       " 0               Art & Design   January 7, 2018               1.0.0   \n",
       " 1  Art & Design;Pretend Play  January 15, 2018               2.0.0   \n",
       " 2               Art & Design    August 1, 2018               1.2.4   \n",
       " 3               Art & Design      June 8, 2018  Varies with device   \n",
       " 4    Art & Design;Creativity     June 20, 2018                 1.1   \n",
       " \n",
       "     Android Ver  \n",
       " 0  4.0.3 and up  \n",
       " 1  4.0.3 and up  \n",
       " 2  4.0.3 and up  \n",
       " 3    4.2 and up  \n",
       " 4    4.4 and up  ,\n",
       "                      App                                  Translated_Review  \\\n",
       " 0  10 Best Foods for You  I like eat delicious food. That's I'm cooking ...   \n",
       " 1  10 Best Foods for You    This help eating healthy exercise regular basis   \n",
       " 2  10 Best Foods for You                                                NaN   \n",
       " 3  10 Best Foods for You         Works great especially going grocery store   \n",
       " 4  10 Best Foods for You                                       Best idea us   \n",
       " \n",
       "   Sentiment  Sentiment_Polarity  Sentiment_Subjectivity  \n",
       " 0  Positive                1.00                0.533333  \n",
       " 1  Positive                0.25                0.288462  \n",
       " 2       NaN                 NaN                     NaN  \n",
       " 3  Positive                0.40                0.875000  \n",
       " 4  Positive                1.00                0.300000  )"
      ]
     },
     "execution_count": 3,
     "metadata": {},
     "output_type": "execute_result"
    }
   ],
   "source": [
    "apps_df = pd.read_csv('Play Store Data.csv')\n",
    "reviews_df = pd.read_csv('User Reviews.csv')\n",
    "apps_df.head(),reviews_df.head()"
   ]
  },
  {
   "cell_type": "code",
   "execution_count": 4,
   "id": "2d20df72-00a8-4d1e-a42c-714fb560931a",
   "metadata": {
    "scrolled": true
   },
   "outputs": [
    {
     "name": "stderr",
     "output_type": "stream",
     "text": [
      "C:\\Users\\Suhani\\AppData\\Local\\Temp\\ipykernel_34228\\865854754.py:3: FutureWarning: A value is trying to be set on a copy of a DataFrame or Series through chained assignment using an inplace method.\n",
      "The behavior will change in pandas 3.0. This inplace method will never work because the intermediate object on which we are setting values always behaves as a copy.\n",
      "\n",
      "For example, when doing 'df[col].method(value, inplace=True)', try using 'df.method({col: value}, inplace=True)' or df[col] = df[col].method(value) instead, to perform the operation inplace on the original object.\n",
      "\n",
      "\n",
      "  apps_df[column].fillna(apps_df[column].mode()[0], inplace=True)\n"
     ]
    }
   ],
   "source": [
    "apps_df = apps_df.dropna(subset=['Rating'])\n",
    "for column in apps_df.columns:\n",
    "    apps_df[column].fillna(apps_df[column].mode()[0], inplace=True)\n",
    "apps_df.drop_duplicates(inplace=True)\n",
    "apps_df = apps_df[apps_df['Rating'] <= 5]\n",
    "reviews_df.dropna(subset=['Translated_Review'], inplace=True)"
   ]
  },
  {
   "cell_type": "code",
   "execution_count": 5,
   "id": "a504654f-e1fe-44d1-abdf-46d4202a6435",
   "metadata": {},
   "outputs": [],
   "source": [
    "merged_df = pd.merge(apps_df, reviews_df, on='App', how='inner')"
   ]
  },
  {
   "cell_type": "code",
   "execution_count": 6,
   "id": "e6bf7710-a303-4b6e-9004-50c90c30cbcb",
   "metadata": {},
   "outputs": [],
   "source": [
    "apps_df['Installs'] = apps_df['Installs'].astype(str).str.replace(',', '').str.replace('+', '').astype(float)"
   ]
  },
  {
   "cell_type": "code",
   "execution_count": 7,
   "id": "7c7d24ec-169d-4b53-99ac-013a5683fa0b",
   "metadata": {},
   "outputs": [],
   "source": [
    "apps_df['Price'] = apps_df['Price'].str.replace('$', '').astype(float)"
   ]
  },
  {
   "cell_type": "code",
   "execution_count": 8,
   "id": "532945b7-ae9f-473c-8609-e2cb7569e978",
   "metadata": {},
   "outputs": [],
   "source": [
    "apps_df['Revenue'] = apps_df['Price'] * apps_df['Installs']"
   ]
  },
  {
   "cell_type": "code",
   "execution_count": 9,
   "id": "3ee222f9-6de9-4cc2-a847-a1afc20230b7",
   "metadata": {},
   "outputs": [],
   "source": [
    "apps_df['Revenue'] = pd.to_numeric(apps_df['Revenue'], errors='coerce')\n",
    "apps_df['Size'] = apps_df['Size'].str.replace('M', '').replace('Varies with device', None)\n",
    "apps_df['Size'] = pd.to_numeric(apps_df['Size'], errors='coerce')  "
   ]
  },
  {
   "cell_type": "code",
   "execution_count": 10,
   "id": "20a1e975-ed68-4b47-b3fd-7867cde1223d",
   "metadata": {},
   "outputs": [],
   "source": [
    "filtered_apps = apps_df[(apps_df['Installs'] >= 100000) & \n",
    "(apps_df['Revenue'] >= 100000) & \n",
    "(apps_df['Android Ver'].str.contains('4.0|4.1|4.2|4.3|4.4|5.0|5.1|6.0|7.0|7.1|8.0|8.1|9|10|11|12')) & \n",
    "(apps_df['Size'] > 15) & \n",
    "(apps_df['Content Rating'] == 'Everyone') & \n",
    "(apps_df['App'].str.len() <=30)]"
   ]
  },
  {
   "cell_type": "code",
   "execution_count": 11,
   "id": "4ba0ed51-0e3b-4c7a-8896-21d65cea5e22",
   "metadata": {},
   "outputs": [
    {
     "data": {
      "text/html": [
       "<div>\n",
       "<style scoped>\n",
       "    .dataframe tbody tr th:only-of-type {\n",
       "        vertical-align: middle;\n",
       "    }\n",
       "\n",
       "    .dataframe tbody tr th {\n",
       "        vertical-align: top;\n",
       "    }\n",
       "\n",
       "    .dataframe thead th {\n",
       "        text-align: right;\n",
       "    }\n",
       "</style>\n",
       "<table border=\"1\" class=\"dataframe\">\n",
       "  <thead>\n",
       "    <tr style=\"text-align: right;\">\n",
       "      <th></th>\n",
       "      <th>App</th>\n",
       "      <th>Category</th>\n",
       "      <th>Rating</th>\n",
       "      <th>Reviews</th>\n",
       "      <th>Size</th>\n",
       "      <th>Installs</th>\n",
       "      <th>Type</th>\n",
       "      <th>Price</th>\n",
       "      <th>Content Rating</th>\n",
       "      <th>Genres</th>\n",
       "      <th>Last Updated</th>\n",
       "      <th>Current Ver</th>\n",
       "      <th>Android Ver</th>\n",
       "      <th>Revenue</th>\n",
       "    </tr>\n",
       "  </thead>\n",
       "  <tbody>\n",
       "    <tr>\n",
       "      <th>853</th>\n",
       "      <td>Toca Life: City</td>\n",
       "      <td>EDUCATION</td>\n",
       "      <td>4.7</td>\n",
       "      <td>31085</td>\n",
       "      <td>24.0</td>\n",
       "      <td>500000.0</td>\n",
       "      <td>Paid</td>\n",
       "      <td>3.99</td>\n",
       "      <td>Everyone</td>\n",
       "      <td>Education;Pretend Play</td>\n",
       "      <td>July 6, 2018</td>\n",
       "      <td>1.5-play</td>\n",
       "      <td>4.4 and up</td>\n",
       "      <td>1995000.0</td>\n",
       "    </tr>\n",
       "    <tr>\n",
       "      <th>854</th>\n",
       "      <td>Toca Life: Hospital</td>\n",
       "      <td>EDUCATION</td>\n",
       "      <td>4.7</td>\n",
       "      <td>3528</td>\n",
       "      <td>24.0</td>\n",
       "      <td>100000.0</td>\n",
       "      <td>Paid</td>\n",
       "      <td>3.99</td>\n",
       "      <td>Everyone</td>\n",
       "      <td>Education;Pretend Play</td>\n",
       "      <td>June 12, 2018</td>\n",
       "      <td>1.1.1-play</td>\n",
       "      <td>4.4 and up</td>\n",
       "      <td>399000.0</td>\n",
       "    </tr>\n",
       "    <tr>\n",
       "      <th>1831</th>\n",
       "      <td>The Game of Life</td>\n",
       "      <td>GAME</td>\n",
       "      <td>4.4</td>\n",
       "      <td>18621</td>\n",
       "      <td>63.0</td>\n",
       "      <td>100000.0</td>\n",
       "      <td>Paid</td>\n",
       "      <td>2.99</td>\n",
       "      <td>Everyone</td>\n",
       "      <td>Board</td>\n",
       "      <td>July 4, 2018</td>\n",
       "      <td>2.1.2</td>\n",
       "      <td>4.4 and up</td>\n",
       "      <td>299000.0</td>\n",
       "    </tr>\n",
       "    <tr>\n",
       "      <th>1833</th>\n",
       "      <td>The Room: Old Sins</td>\n",
       "      <td>GAME</td>\n",
       "      <td>4.9</td>\n",
       "      <td>21119</td>\n",
       "      <td>48.0</td>\n",
       "      <td>100000.0</td>\n",
       "      <td>Paid</td>\n",
       "      <td>4.99</td>\n",
       "      <td>Everyone</td>\n",
       "      <td>Puzzle</td>\n",
       "      <td>April 18, 2018</td>\n",
       "      <td>1.0.1</td>\n",
       "      <td>4.4 and up</td>\n",
       "      <td>499000.0</td>\n",
       "    </tr>\n",
       "    <tr>\n",
       "      <th>1836</th>\n",
       "      <td>RollerCoaster Tycoon® Classic</td>\n",
       "      <td>GAME</td>\n",
       "      <td>4.6</td>\n",
       "      <td>10795</td>\n",
       "      <td>69.0</td>\n",
       "      <td>100000.0</td>\n",
       "      <td>Paid</td>\n",
       "      <td>5.99</td>\n",
       "      <td>Everyone</td>\n",
       "      <td>Simulation</td>\n",
       "      <td>December 21, 2017</td>\n",
       "      <td>1.2.1.1712080</td>\n",
       "      <td>4.0.3 and up</td>\n",
       "      <td>599000.0</td>\n",
       "    </tr>\n",
       "  </tbody>\n",
       "</table>\n",
       "</div>"
      ],
      "text/plain": [
       "                                App   Category  Rating Reviews  Size  \\\n",
       "853                 Toca Life: City  EDUCATION     4.7   31085  24.0   \n",
       "854             Toca Life: Hospital  EDUCATION     4.7    3528  24.0   \n",
       "1831               The Game of Life       GAME     4.4   18621  63.0   \n",
       "1833             The Room: Old Sins       GAME     4.9   21119  48.0   \n",
       "1836  RollerCoaster Tycoon® Classic       GAME     4.6   10795  69.0   \n",
       "\n",
       "      Installs  Type  Price Content Rating                  Genres  \\\n",
       "853   500000.0  Paid   3.99       Everyone  Education;Pretend Play   \n",
       "854   100000.0  Paid   3.99       Everyone  Education;Pretend Play   \n",
       "1831  100000.0  Paid   2.99       Everyone                   Board   \n",
       "1833  100000.0  Paid   4.99       Everyone                  Puzzle   \n",
       "1836  100000.0  Paid   5.99       Everyone              Simulation   \n",
       "\n",
       "           Last Updated    Current Ver   Android Ver    Revenue  \n",
       "853        July 6, 2018       1.5-play    4.4 and up  1995000.0  \n",
       "854       June 12, 2018     1.1.1-play    4.4 and up   399000.0  \n",
       "1831       July 4, 2018          2.1.2    4.4 and up   299000.0  \n",
       "1833     April 18, 2018          1.0.1    4.4 and up   499000.0  \n",
       "1836  December 21, 2017  1.2.1.1712080  4.0.3 and up   599000.0  "
      ]
     },
     "execution_count": 11,
     "metadata": {},
     "output_type": "execute_result"
    }
   ],
   "source": [
    "filtered_apps.head()"
   ]
  },
  {
   "cell_type": "code",
   "execution_count": 12,
   "id": "e23a0560-4a57-48c7-9d8b-5e02275a665c",
   "metadata": {},
   "outputs": [],
   "source": [
    "top_categories = filtered_apps['Category'].value_counts().head(3).index\n",
    "filtered_apps = filtered_apps[filtered_apps['Category'].isin(top_categories)]"
   ]
  },
  {
   "cell_type": "code",
   "execution_count": 13,
   "id": "3b1c8cbb-5956-4602-b5b9-139499a1b2a5",
   "metadata": {},
   "outputs": [
    {
     "data": {
      "text/html": [
       "<div>\n",
       "<style scoped>\n",
       "    .dataframe tbody tr th:only-of-type {\n",
       "        vertical-align: middle;\n",
       "    }\n",
       "\n",
       "    .dataframe tbody tr th {\n",
       "        vertical-align: top;\n",
       "    }\n",
       "\n",
       "    .dataframe thead th {\n",
       "        text-align: right;\n",
       "    }\n",
       "</style>\n",
       "<table border=\"1\" class=\"dataframe\">\n",
       "  <thead>\n",
       "    <tr style=\"text-align: right;\">\n",
       "      <th></th>\n",
       "      <th>Category</th>\n",
       "      <th>Type</th>\n",
       "      <th>Installs</th>\n",
       "      <th>Revenue</th>\n",
       "    </tr>\n",
       "  </thead>\n",
       "  <tbody>\n",
       "    <tr>\n",
       "      <th>0</th>\n",
       "      <td>EDUCATION</td>\n",
       "      <td>Paid</td>\n",
       "      <td>300000.000000</td>\n",
       "      <td>1.197000e+06</td>\n",
       "    </tr>\n",
       "    <tr>\n",
       "      <th>1</th>\n",
       "      <td>FAMILY</td>\n",
       "      <td>Paid</td>\n",
       "      <td>466666.666667</td>\n",
       "      <td>9.786667e+05</td>\n",
       "    </tr>\n",
       "    <tr>\n",
       "      <th>2</th>\n",
       "      <td>GAME</td>\n",
       "      <td>Paid</td>\n",
       "      <td>228571.428571</td>\n",
       "      <td>4.977143e+05</td>\n",
       "    </tr>\n",
       "  </tbody>\n",
       "</table>\n",
       "</div>"
      ],
      "text/plain": [
       "    Category  Type       Installs       Revenue\n",
       "0  EDUCATION  Paid  300000.000000  1.197000e+06\n",
       "1     FAMILY  Paid  466666.666667  9.786667e+05\n",
       "2       GAME  Paid  228571.428571  4.977143e+05"
      ]
     },
     "execution_count": 13,
     "metadata": {},
     "output_type": "execute_result"
    }
   ],
   "source": [
    "filtered_apps['Type'] = filtered_apps['Type'].str.strip()\n",
    "avg_metrics = filtered_apps.groupby(['Category', 'Type'])[['Installs', 'Revenue']].mean().reset_index()\n",
    "avg_metrics"
   ]
  },
  {
   "cell_type": "code",
   "execution_count": 14,
   "id": "6d78639a-0563-416c-868f-bb455c74fda4",
   "metadata": {},
   "outputs": [],
   "source": [
    "# This script generates and displays a graph using matplotlib.\n",
    "# It creates a dataset, plots a graph, and labels axes.\n",
    "# Running this code will display the graph visually.\n",
    "ist = pytz.timezone(\"Asia/Kolkata\")\n",
    "current_time = datetime.now(ist).hour"
   ]
  },
  {
   "cell_type": "code",
   "execution_count": 15,
   "id": "510d070f-b655-4f19-b2ac-c73ba03fe172",
   "metadata": {},
   "outputs": [],
   "source": [
    "chart_path = 'dual_axis_chart.html'\n",
    "display_page_path = 'display_dual_axis_chart.html'\n",
    "\n",
    "if 13 <= current_time < 14:  \n",
    "    fig = go.Figure()\n",
    "    for t in avg_metrics['Type'].unique():\n",
    "        df_temp = avg_metrics[avg_metrics['Type'] == t]\n",
    "        fig.add_trace(go.Bar(x = df_temp['Category'], y = df_temp['Installs'], name = f'Installs ({t})', marker_color = 'blue'))\n",
    "        fig.add_trace(go.Scatter(x = df_temp['Category'], y = df_temp['Revenue'], mode = 'lines+markers', name=f\"Revenue ({t})\", marker_color = 'red'))\n",
    "    \n",
    "    fig.update_layout(title = 'Comparison of Installs & Revenue for Free vs. Paid Apps',\n",
    "                      xaxis_title = 'App Category', yaxis_title = 'Average Installs',\n",
    "                      yaxis2 = dict(title = 'Average Revenue ($)', overlaying = 'y', side = 'right'))\n",
    "    fig.write_html(chart_path)\n",
    "    html_content = f'''\n",
    "    <!DOCTYPE html>\n",
    "    <html lang = 'en'>\n",
    "    <head>\n",
    "        <meta charset = 'UTF-8'>\n",
    "        <meta name = 'viewport' content = 'width = device-width, initial-scale = 1.0'>\n",
    "        <title> Dual-Axis Chart </title>\n",
    "        <script>\n",
    "            function openChart() {{\n",
    "                window.open('{chart_path}', '_blank');\n",
    "            }}\n",
    "        </script>\n",
    "    </head>\n",
    "    <body>\n",
    "        <h2> Dual-Axis Chart: Installs vs. Revenue </h2>\n",
    "        <button onclick = 'openChart()'> Open Chart </button>\n",
    "    </body>\n",
    "    </html>\n",
    "    '''\n",
    "else:\n",
    "    if os.path.exists(chart_path):\n",
    "        os.remove(chart_path)\n",
    "    html_content = '''\n",
    "    <!DOCTYPE html>\n",
    "    <html lang = 'en'>\n",
    "    <head>\n",
    "        <meta charset = 'UTF-8'>\n",
    "        <meta name = 'viewport\" content = 'width = device-width, initial-scale = 1.0'>\n",
    "        <title> Dual-Axis Chart </title>\n",
    "    </head>\n",
    "    <body>\n",
    "        <h2> Dual-Axis Chart is not available at this time. </h2>\n",
    "        <p> Please check back between 1 PM - 2 PM IST. </p>\n",
    "    </body>\n",
    "    </html>\n",
    "    '''\n",
    "with open(display_page_path, 'w') as file:\n",
    "    file.write(html_content)"
   ]
  }
 ],
 "metadata": {
  "kernelspec": {
   "display_name": "Python [conda env:base] *",
   "language": "python",
   "name": "conda-base-py"
  },
  "language_info": {
   "codemirror_mode": {
    "name": "ipython",
    "version": 3
   },
   "file_extension": ".py",
   "mimetype": "text/x-python",
   "name": "python",
   "nbconvert_exporter": "python",
   "pygments_lexer": "ipython3",
   "version": "3.12.7"
  }
 },
 "nbformat": 4,
 "nbformat_minor": 5
}
