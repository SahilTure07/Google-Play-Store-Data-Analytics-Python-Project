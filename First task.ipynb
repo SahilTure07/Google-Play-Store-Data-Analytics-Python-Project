{
 "cells": [
  {
   "cell_type": "code",
   "execution_count": 1,
   "id": "28f7d7bd-10a4-46b0-a4ae-64e140d27307",
   "metadata": {},
   "outputs": [],
   "source": [
    "import numpy as np\n",
    "import pandas as pd\n",
    "import matplotlib.pyplot as plt\n",
    "import seaborn as sns\n",
    "import plotly.express as px\n",
    "from sklearn.model_selection import train_test_split\n",
    "from sklearn.ensemble import RandomForestRegressor\n",
    "from sklearn.metrics import mean_squared_error, r2_score\n",
    "import nltk\n",
    "import webbrowser\n",
    "import os"
   ]
  },
  {
   "cell_type": "code",
   "execution_count": 2,
   "id": "7ca6e17b-2f4a-4e15-b963-1626e53990b1",
   "metadata": {},
   "outputs": [
    {
     "data": {
      "text/plain": [
       "(                                                 App        Category  Rating  \\\n",
       " 0     Photo Editor & Candy Camera & Grid & ScrapBook  ART_AND_DESIGN     4.1   \n",
       " 1                                Coloring book moana  ART_AND_DESIGN     3.9   \n",
       " 2  U Launcher Lite – FREE Live Cool Themes, Hide ...  ART_AND_DESIGN     4.7   \n",
       " 3                              Sketch - Draw & Paint  ART_AND_DESIGN     4.5   \n",
       " 4              Pixel Draw - Number Art Coloring Book  ART_AND_DESIGN     4.3   \n",
       " \n",
       "   Reviews  Size     Installs  Type Price Content Rating  \\\n",
       " 0     159   19M      10,000+  Free     0       Everyone   \n",
       " 1     967   14M     500,000+  Free     0       Everyone   \n",
       " 2   87510  8.7M   5,000,000+  Free     0       Everyone   \n",
       " 3  215644   25M  50,000,000+  Free     0           Teen   \n",
       " 4     967  2.8M     100,000+  Free     0       Everyone   \n",
       " \n",
       "                       Genres      Last Updated         Current Ver  \\\n",
       " 0               Art & Design   January 7, 2018               1.0.0   \n",
       " 1  Art & Design;Pretend Play  January 15, 2018               2.0.0   \n",
       " 2               Art & Design    August 1, 2018               1.2.4   \n",
       " 3               Art & Design      June 8, 2018  Varies with device   \n",
       " 4    Art & Design;Creativity     June 20, 2018                 1.1   \n",
       " \n",
       "     Android Ver  \n",
       " 0  4.0.3 and up  \n",
       " 1  4.0.3 and up  \n",
       " 2  4.0.3 and up  \n",
       " 3    4.2 and up  \n",
       " 4    4.4 and up  ,\n",
       "                      App                                  Translated_Review  \\\n",
       " 0  10 Best Foods for You  I like eat delicious food. That's I'm cooking ...   \n",
       " 1  10 Best Foods for You    This help eating healthy exercise regular basis   \n",
       " 2  10 Best Foods for You                                                NaN   \n",
       " 3  10 Best Foods for You         Works great especially going grocery store   \n",
       " 4  10 Best Foods for You                                       Best idea us   \n",
       " \n",
       "   Sentiment  Sentiment_Polarity  Sentiment_Subjectivity  \n",
       " 0  Positive                1.00                0.533333  \n",
       " 1  Positive                0.25                0.288462  \n",
       " 2       NaN                 NaN                     NaN  \n",
       " 3  Positive                0.40                0.875000  \n",
       " 4  Positive                1.00                0.300000  )"
      ]
     },
     "execution_count": 2,
     "metadata": {},
     "output_type": "execute_result"
    }
   ],
   "source": [
    "apps_df = pd.read_csv('Play Store Data.csv')\n",
    "reviews_df = pd.read_csv('User Reviews.csv')\n",
    "apps_df.head(), reviews_df.head()\n"
   ]
  },
  {
   "cell_type": "code",
   "execution_count": 3,
   "id": "5312a636-61ed-47ca-8e19-a67d3804c49b",
   "metadata": {},
   "outputs": [
    {
     "name": "stderr",
     "output_type": "stream",
     "text": [
      "C:\\Users\\Suhani\\AppData\\Local\\Temp\\ipykernel_39588\\865854754.py:3: FutureWarning: A value is trying to be set on a copy of a DataFrame or Series through chained assignment using an inplace method.\n",
      "The behavior will change in pandas 3.0. This inplace method will never work because the intermediate object on which we are setting values always behaves as a copy.\n",
      "\n",
      "For example, when doing 'df[col].method(value, inplace=True)', try using 'df.method({col: value}, inplace=True)' or df[col] = df[col].method(value) instead, to perform the operation inplace on the original object.\n",
      "\n",
      "\n",
      "  apps_df[column].fillna(apps_df[column].mode()[0], inplace=True)\n"
     ]
    }
   ],
   "source": [
    "apps_df = apps_df.dropna(subset=['Rating'])\n",
    "for column in apps_df.columns:\n",
    "    apps_df[column].fillna(apps_df[column].mode()[0], inplace=True)\n",
    "apps_df.drop_duplicates(inplace=True)\n",
    "apps_df = apps_df[apps_df['Rating'] <= 5]\n",
    "reviews_df.dropna(subset=['Translated_Review'], inplace=True)"
   ]
  },
  {
   "cell_type": "code",
   "execution_count": 4,
   "id": "f82073a6-1735-4d33-9bfc-2d6c0a152a44",
   "metadata": {},
   "outputs": [],
   "source": [
    "apps_df['Reviews'] = pd.to_numeric(apps_df['Reviews'], errors='coerce')\n",
    "filtered_apps = apps_df[apps_df['Reviews']>1000]"
   ]
  },
  {
   "cell_type": "code",
   "execution_count": 5,
   "id": "0c4643c7-a04e-4808-8e0f-2af36e8ba9bb",
   "metadata": {},
   "outputs": [],
   "source": [
    "top_categories = filtered_apps['Category'].value_counts().head(5).index\n",
    "filtered_apps = filtered_apps[filtered_apps['Category'].isin(top_categories)]"
   ]
  },
  {
   "cell_type": "code",
   "execution_count": 6,
   "id": "91bd79d2-9766-4187-8a52-6f44773317ac",
   "metadata": {},
   "outputs": [
    {
     "data": {
      "text/html": [
       "<div>\n",
       "<style scoped>\n",
       "    .dataframe tbody tr th:only-of-type {\n",
       "        vertical-align: middle;\n",
       "    }\n",
       "\n",
       "    .dataframe tbody tr th {\n",
       "        vertical-align: top;\n",
       "    }\n",
       "\n",
       "    .dataframe thead th {\n",
       "        text-align: right;\n",
       "    }\n",
       "</style>\n",
       "<table border=\"1\" class=\"dataframe\">\n",
       "  <thead>\n",
       "    <tr style=\"text-align: right;\">\n",
       "      <th></th>\n",
       "      <th>App</th>\n",
       "      <th>Category</th>\n",
       "      <th>Rating</th>\n",
       "      <th>Reviews</th>\n",
       "      <th>Size</th>\n",
       "      <th>Installs</th>\n",
       "      <th>Type</th>\n",
       "      <th>Price</th>\n",
       "      <th>Content Rating</th>\n",
       "      <th>Genres</th>\n",
       "      <th>Last Updated</th>\n",
       "      <th>Current Ver</th>\n",
       "      <th>Android Ver</th>\n",
       "      <th>Translated_Review</th>\n",
       "      <th>Sentiment</th>\n",
       "      <th>Sentiment_Polarity</th>\n",
       "      <th>Sentiment_Subjectivity</th>\n",
       "    </tr>\n",
       "  </thead>\n",
       "  <tbody>\n",
       "    <tr>\n",
       "      <th>0</th>\n",
       "      <td>Candy Crush Saga</td>\n",
       "      <td>GAME</td>\n",
       "      <td>4.4</td>\n",
       "      <td>22426677</td>\n",
       "      <td>74M</td>\n",
       "      <td>500,000,000+</td>\n",
       "      <td>Free</td>\n",
       "      <td>0</td>\n",
       "      <td>Everyone</td>\n",
       "      <td>Casual</td>\n",
       "      <td>July 5, 2018</td>\n",
       "      <td>1.129.0.2</td>\n",
       "      <td>4.1 and up</td>\n",
       "      <td>If get free lives refill, continue accumulate ...</td>\n",
       "      <td>Positive</td>\n",
       "      <td>0.374411</td>\n",
       "      <td>0.556987</td>\n",
       "    </tr>\n",
       "    <tr>\n",
       "      <th>1</th>\n",
       "      <td>Candy Crush Saga</td>\n",
       "      <td>GAME</td>\n",
       "      <td>4.4</td>\n",
       "      <td>22426677</td>\n",
       "      <td>74M</td>\n",
       "      <td>500,000,000+</td>\n",
       "      <td>Free</td>\n",
       "      <td>0</td>\n",
       "      <td>Everyone</td>\n",
       "      <td>Casual</td>\n",
       "      <td>July 5, 2018</td>\n",
       "      <td>1.129.0.2</td>\n",
       "      <td>4.1 and up</td>\n",
       "      <td>My original rating 01/2015 5 Stars still holdi...</td>\n",
       "      <td>Positive</td>\n",
       "      <td>0.250000</td>\n",
       "      <td>0.475000</td>\n",
       "    </tr>\n",
       "    <tr>\n",
       "      <th>2</th>\n",
       "      <td>Candy Crush Saga</td>\n",
       "      <td>GAME</td>\n",
       "      <td>4.4</td>\n",
       "      <td>22426677</td>\n",
       "      <td>74M</td>\n",
       "      <td>500,000,000+</td>\n",
       "      <td>Free</td>\n",
       "      <td>0</td>\n",
       "      <td>Everyone</td>\n",
       "      <td>Casual</td>\n",
       "      <td>July 5, 2018</td>\n",
       "      <td>1.129.0.2</td>\n",
       "      <td>4.1 and up</td>\n",
       "      <td>This good time passing game. However, I like l...</td>\n",
       "      <td>Positive</td>\n",
       "      <td>0.200926</td>\n",
       "      <td>0.437963</td>\n",
       "    </tr>\n",
       "    <tr>\n",
       "      <th>3</th>\n",
       "      <td>Candy Crush Saga</td>\n",
       "      <td>GAME</td>\n",
       "      <td>4.4</td>\n",
       "      <td>22426677</td>\n",
       "      <td>74M</td>\n",
       "      <td>500,000,000+</td>\n",
       "      <td>Free</td>\n",
       "      <td>0</td>\n",
       "      <td>Everyone</td>\n",
       "      <td>Casual</td>\n",
       "      <td>July 5, 2018</td>\n",
       "      <td>1.129.0.2</td>\n",
       "      <td>4.1 and up</td>\n",
       "      <td>Fun first, spending two weeks level makes want...</td>\n",
       "      <td>Positive</td>\n",
       "      <td>0.183333</td>\n",
       "      <td>0.296825</td>\n",
       "    </tr>\n",
       "    <tr>\n",
       "      <th>4</th>\n",
       "      <td>Candy Crush Saga</td>\n",
       "      <td>GAME</td>\n",
       "      <td>4.4</td>\n",
       "      <td>22426677</td>\n",
       "      <td>74M</td>\n",
       "      <td>500,000,000+</td>\n",
       "      <td>Free</td>\n",
       "      <td>0</td>\n",
       "      <td>Everyone</td>\n",
       "      <td>Casual</td>\n",
       "      <td>July 5, 2018</td>\n",
       "      <td>1.129.0.2</td>\n",
       "      <td>4.1 and up</td>\n",
       "      <td>Please get rid amount pop ups love things holy...</td>\n",
       "      <td>Positive</td>\n",
       "      <td>0.319444</td>\n",
       "      <td>0.600000</td>\n",
       "    </tr>\n",
       "  </tbody>\n",
       "</table>\n",
       "</div>"
      ],
      "text/plain": [
       "                App Category  Rating   Reviews Size      Installs  Type Price  \\\n",
       "0  Candy Crush Saga     GAME     4.4  22426677  74M  500,000,000+  Free     0   \n",
       "1  Candy Crush Saga     GAME     4.4  22426677  74M  500,000,000+  Free     0   \n",
       "2  Candy Crush Saga     GAME     4.4  22426677  74M  500,000,000+  Free     0   \n",
       "3  Candy Crush Saga     GAME     4.4  22426677  74M  500,000,000+  Free     0   \n",
       "4  Candy Crush Saga     GAME     4.4  22426677  74M  500,000,000+  Free     0   \n",
       "\n",
       "  Content Rating  Genres  Last Updated Current Ver Android Ver  \\\n",
       "0       Everyone  Casual  July 5, 2018   1.129.0.2  4.1 and up   \n",
       "1       Everyone  Casual  July 5, 2018   1.129.0.2  4.1 and up   \n",
       "2       Everyone  Casual  July 5, 2018   1.129.0.2  4.1 and up   \n",
       "3       Everyone  Casual  July 5, 2018   1.129.0.2  4.1 and up   \n",
       "4       Everyone  Casual  July 5, 2018   1.129.0.2  4.1 and up   \n",
       "\n",
       "                                   Translated_Review Sentiment  \\\n",
       "0  If get free lives refill, continue accumulate ...  Positive   \n",
       "1  My original rating 01/2015 5 Stars still holdi...  Positive   \n",
       "2  This good time passing game. However, I like l...  Positive   \n",
       "3  Fun first, spending two weeks level makes want...  Positive   \n",
       "4  Please get rid amount pop ups love things holy...  Positive   \n",
       "\n",
       "   Sentiment_Polarity  Sentiment_Subjectivity  \n",
       "0            0.374411                0.556987  \n",
       "1            0.250000                0.475000  \n",
       "2            0.200926                0.437963  \n",
       "3            0.183333                0.296825  \n",
       "4            0.319444                0.600000  "
      ]
     },
     "execution_count": 6,
     "metadata": {},
     "output_type": "execute_result"
    }
   ],
   "source": [
    "merged_df = pd.merge(filtered_apps, reviews_df, on='App', how='inner')\n",
    "merged_df = merged_df.dropna(subset=['Sentiment'])\n",
    "merged_df.head()"
   ]
  },
  {
   "cell_type": "code",
   "execution_count": 7,
   "id": "aa7c11d2-4e19-4143-b336-188330518e72",
   "metadata": {},
   "outputs": [],
   "source": [
    "def categorize_rating(rating):\n",
    "    if rating >= 4:\n",
    "        return '4-5 stars'\n",
    "    elif rating >= 3:\n",
    "        return '3-4 stars'\n",
    "    else:\n",
    "        return '1-2 stars'\n",
    "    "
   ]
  },
  {
   "cell_type": "code",
   "execution_count": 8,
   "id": "467e2081-28d5-4952-8cf4-385d4425fb52",
   "metadata": {},
   "outputs": [],
   "source": [
    "merged_df['Rating Group']= merged_df['Rating'].apply(categorize_rating)"
   ]
  },
  {
   "cell_type": "code",
   "execution_count": 9,
   "id": "69488369-c41a-451c-a78d-e579775aef2d",
   "metadata": {},
   "outputs": [
    {
     "data": {
      "text/html": [
       "<div>\n",
       "<style scoped>\n",
       "    .dataframe tbody tr th:only-of-type {\n",
       "        vertical-align: middle;\n",
       "    }\n",
       "\n",
       "    .dataframe tbody tr th {\n",
       "        vertical-align: top;\n",
       "    }\n",
       "\n",
       "    .dataframe thead th {\n",
       "        text-align: right;\n",
       "    }\n",
       "</style>\n",
       "<table border=\"1\" class=\"dataframe\">\n",
       "  <thead>\n",
       "    <tr style=\"text-align: right;\">\n",
       "      <th>Sentiment</th>\n",
       "      <th>Negative</th>\n",
       "      <th>Neutral</th>\n",
       "      <th>Positive</th>\n",
       "    </tr>\n",
       "    <tr>\n",
       "      <th>Rating Group</th>\n",
       "      <th></th>\n",
       "      <th></th>\n",
       "      <th></th>\n",
       "    </tr>\n",
       "  </thead>\n",
       "  <tbody>\n",
       "    <tr>\n",
       "      <th>3-4 stars</th>\n",
       "      <td>169</td>\n",
       "      <td>125</td>\n",
       "      <td>351</td>\n",
       "    </tr>\n",
       "    <tr>\n",
       "      <th>4-5 stars</th>\n",
       "      <td>9034</td>\n",
       "      <td>1949</td>\n",
       "      <td>17356</td>\n",
       "    </tr>\n",
       "  </tbody>\n",
       "</table>\n",
       "</div>"
      ],
      "text/plain": [
       "Sentiment     Negative  Neutral  Positive\n",
       "Rating Group                             \n",
       "3-4 stars          169      125       351\n",
       "4-5 stars         9034     1949     17356"
      ]
     },
     "execution_count": 9,
     "metadata": {},
     "output_type": "execute_result"
    }
   ],
   "source": [
    "sentiment_counts = merged_df.groupby(['Rating Group','Sentiment']).size().unstack().fillna(0)\n",
    "sentiment_counts"
   ]
  },
  {
   "cell_type": "code",
   "execution_count": 10,
   "id": "6b9c9b1e-e9cf-4dd3-85c0-e5495e050b04",
   "metadata": {},
   "outputs": [],
   "source": [
    "sentiment_plot_df = sentiment_counts.reset_index().melt(id_vars=[\"Rating Group\"], var_name=\"Sentiment\", value_name=\"Count\")"
   ]
  },
  {
   "cell_type": "code",
   "execution_count": 11,
   "id": "7d22d669-2f00-4858-b064-c2eed5db9d3f",
   "metadata": {},
   "outputs": [],
   "source": [
    "fig = px.bar(\n",
    "    sentiment_plot_df,\n",
    "    x=\"Rating Group\",\n",
    "    y=\"Count\",\n",
    "    color=\"Sentiment\",\n",
    "    title=\"Sentiment Distribution by Rating Group\",\n",
    "    color_discrete_map={\"Positive\": \"green\", \"Neutral\": \"gray\", \"Negative\": \"red\"},\n",
    "    text_auto=True,\n",
    "    barmode=\"stack\"\n",
    ")"
   ]
  },
  {
   "cell_type": "code",
   "execution_count": 12,
   "id": "89425a07-df38-4186-822e-1c0238cc407b",
   "metadata": {},
   "outputs": [],
   "source": [
    "chart_path = \"sentiment_distribution.html\"\n",
    "fig.write_html(chart_path)"
   ]
  },
  {
   "cell_type": "code",
   "execution_count": 13,
   "id": "1ff79d1c-2247-44c7-98a2-d15c0361ee71",
   "metadata": {},
   "outputs": [],
   "source": [
    "display_html = '''\n",
    "<!DOCTYPE html>\n",
    "<html lang=\"en\">\n",
    "<head>\n",
    "    <meta charset=\"UTF-8\">\n",
    "    <meta name=\"viewport\" content=\"width=device-width, initial-scale=1.0\">\n",
    "    <title>Sentiment Distribution Chart</title>\n",
    "    <script>\n",
    "        function openChart() {\n",
    "            window.open(\"sentiment_distribution.html\", \"_blank\");\n",
    "        }\n",
    "    </script>\n",
    "</head>\n",
    "<body>\n",
    "    <h2>Sentiment Distribution Chart</h2>\n",
    "    <button onclick=\"openChart()\">Open Chart</button>\n",
    "</body>\n",
    "</html>\n",
    "'''"
   ]
  },
  {
   "cell_type": "code",
   "execution_count": 14,
   "id": "95df8ce3-1845-43e6-bee2-0def020b9b26",
   "metadata": {},
   "outputs": [
    {
     "name": "stdout",
     "output_type": "stream",
     "text": [
      "Files generated successfully: display_chart.html & sentiment_distribution.html\n"
     ]
    }
   ],
   "source": [
    "with open(\"display_chart.html\", \"w\") as file:\n",
    "    file.write(display_html)\n",
    "\n",
    "print(\"Files generated successfully: display_chart.html & sentiment_distribution.html\")"
   ]
  },
  {
   "cell_type": "code",
   "execution_count": null,
   "id": "8e6ecc90-7fa7-41d4-ad5e-a474f2cdb849",
   "metadata": {},
   "outputs": [],
   "source": []
  }
 ],
 "metadata": {
  "kernelspec": {
   "display_name": "Python [conda env:base] *",
   "language": "python",
   "name": "conda-base-py"
  },
  "language_info": {
   "codemirror_mode": {
    "name": "ipython",
    "version": 3
   },
   "file_extension": ".py",
   "mimetype": "text/x-python",
   "name": "python",
   "nbconvert_exporter": "python",
   "pygments_lexer": "ipython3",
   "version": "3.12.7"
  }
 },
 "nbformat": 4,
 "nbformat_minor": 5
}
